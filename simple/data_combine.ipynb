{
 "cells": [
  {
   "cell_type": "code",
   "execution_count": 2,
   "id": "ef95bab1",
   "metadata": {},
   "outputs": [
    {
     "name": "stdout",
     "output_type": "stream",
     "text": [
      "Merged dataset shape: (0, 32)\n",
      "Columns: ['date', 'season', 'teamA', 'teamB', 'teamA_home', 'teamA_score', 'teamB_score', 'teamA_moneyLine', 'teamB_moneyLine', 'total', 'spread', 'secondHalfTotal', 'GAME_ID', 'GAME_STATUS_TEXT', 'HOME_TEAM_ID', 'VISITOR_TEAM_ID', 'SEASON', 'TEAM_ID_home', 'PTS_home', 'FG_PCT_home', 'FT_PCT_home', 'FG3_PCT_home', 'AST_home', 'REB_home', 'TEAM_ID_away', 'PTS_away', 'FG_PCT_away', 'FT_PCT_away', 'FG3_PCT_away', 'AST_away', 'REB_away', 'HOME_TEAM_WINS']\n"
     ]
    }
   ],
   "source": [
    "import pandas as pd\n",
    "\n",
    "# Load datasets\n",
    "odds_df = pd.read_csv(\"cleaned_odds_data.csv\")\n",
    "games_df = pd.read_csv(\"games.csv\")\n",
    "teams_df = pd.read_csv(\"teams.csv\")\n",
    "\n",
    "# Convert date columns\n",
    "odds_df['date'] = pd.to_datetime(odds_df['date'])\n",
    "games_df['GAME_DATE_EST'] = pd.to_datetime(games_df['GAME_DATE_EST'])\n",
    "\n",
    "# Map TEAM_ID to team names\n",
    "team_id_to_name = teams_df.set_index(\"TEAM_ID\")[\"NICKNAME\"].to_dict()\n",
    "\n",
    "# Add team names to games data\n",
    "games_df[\"home_team_name\"] = games_df[\"TEAM_ID_home\"].map(team_id_to_name)\n",
    "games_df[\"away_team_name\"] = games_df[\"TEAM_ID_away\"].map(team_id_to_name)\n",
    "\n",
    "# Merge games_df with odds_df as \"Team A vs Team B\"\n",
    "# First, convert all names to lowercase for consistent merging\n",
    "odds_df[\"teamA\"] = odds_df[\"teamA\"].str.lower()\n",
    "odds_df[\"teamB\"] = odds_df[\"teamB\"].str.lower()\n",
    "games_df[\"home_team_name\"] = games_df[\"home_team_name\"].str.lower()\n",
    "games_df[\"away_team_name\"] = games_df[\"away_team_name\"].str.lower()\n",
    "\n",
    "# Merge using date + teamA/home and teamB/away logic\n",
    "merged_df = odds_df.merge(\n",
    "    games_df,\n",
    "    left_on=[\"date\", \"teamA\", \"teamB\"],\n",
    "    right_on=[\"GAME_DATE_EST\", \"home_team_name\", \"away_team_name\"],\n",
    "    how=\"inner\"\n",
    ")\n",
    "\n",
    "# Optionally: drop duplicated or irrelevant columns\n",
    "merged_df = merged_df.drop(columns=[\"GAME_DATE_EST\", \"home_team_name\", \"away_team_name\"])\n",
    "\n",
    "# Preview result\n",
    "print(\"Merged dataset shape:\", merged_df.shape)\n",
    "print(\"Columns:\", merged_df.columns.tolist())\n"
   ]
  },
  {
   "cell_type": "code",
   "execution_count": 3,
   "id": "b9ed114f",
   "metadata": {},
   "outputs": [
    {
     "name": "stdout",
     "output_type": "stream",
     "text": [
      "Merged dataset shape: (0, 35)\n",
      "Sample rows:\n",
      "Empty DataFrame\n",
      "Columns: [date, teamA, teamB, teamA_score, teamB_score, PTS_home, PTS_away]\n",
      "Index: []\n"
     ]
    }
   ],
   "source": [
    "# First lowercase team names for consistency\n",
    "odds_df['teamA'] = odds_df['teamA'].str.lower()\n",
    "odds_df['teamB'] = odds_df['teamB'].str.lower()\n",
    "games_df['home_team_name'] = games_df['TEAM_ID_home'].map(team_id_to_name).str.lower()\n",
    "games_df['away_team_name'] = games_df['TEAM_ID_away'].map(team_id_to_name).str.lower()\n",
    "\n",
    "# Merge where teamA == home team\n",
    "merge1 = odds_df.merge(\n",
    "    games_df,\n",
    "    left_on=['date', 'teamA', 'teamB'],\n",
    "    right_on=['GAME_DATE_EST', 'home_team_name', 'away_team_name'],\n",
    "    how='inner'\n",
    ")\n",
    "\n",
    "# Merge where teamA == away team (i.e., flip)\n",
    "merge2 = odds_df.merge(\n",
    "    games_df,\n",
    "    left_on=['date', 'teamA', 'teamB'],\n",
    "    right_on=['GAME_DATE_EST', 'away_team_name', 'home_team_name'],\n",
    "    how='inner'\n",
    ")\n",
    "\n",
    "# Combine both matches\n",
    "merged_df = pd.concat([merge1, merge2], ignore_index=True)\n",
    "\n",
    "print(\"Merged dataset shape:\", merged_df.shape)\n",
    "print(\"Sample rows:\")\n",
    "print(merged_df[['date', 'teamA', 'teamB', 'teamA_score', 'teamB_score', 'PTS_home', 'PTS_away']].head())\n"
   ]
  },
  {
   "cell_type": "code",
   "execution_count": 4,
   "id": "ad4dc659",
   "metadata": {},
   "outputs": [
    {
     "name": "stdout",
     "output_type": "stream",
     "text": [
      "Team names from odds_df:\n",
      "['atlanta', 'boston', 'brooklyn', 'charlotte', 'chicago', 'cleveland', 'dallas', 'denver', 'detroit', 'golden state', 'houston', 'indiana', 'la clippers', 'la lakers', 'memphis', 'miami', 'milwaukee', 'minnesota', 'new jersey', 'new orleans', 'new york', 'oklahoma city', 'orlando', 'philadelphia', 'phoenix', 'portland', 'sacramento', 'san antonio', 'seattle', 'toronto', 'utah', 'washington']\n"
     ]
    }
   ],
   "source": [
    "print(\"Team names from odds_df:\")\n",
    "print(sorted(set(odds_df['teamA'].str.lower().unique()).union(set(odds_df['teamB'].str.lower().unique()))))"
   ]
  },
  {
   "cell_type": "code",
   "execution_count": 5,
   "id": "badadfbc",
   "metadata": {},
   "outputs": [
    {
     "name": "stdout",
     "output_type": "stream",
     "text": [
      "Nicknames from teams_df (mapped to games_df):\n",
      "['76ers', 'bucks', 'bulls', 'cavaliers', 'celtics', 'clippers', 'grizzlies', 'hawks', 'heat', 'hornets', 'jazz', 'kings', 'knicks', 'lakers', 'magic', 'mavericks', 'nets', 'nuggets', 'pacers', 'pelicans', 'pistons', 'raptors', 'rockets', 'spurs', 'suns', 'thunder', 'timberwolves', 'trail blazers', 'warriors', 'wizards']\n"
     ]
    }
   ],
   "source": [
    "print(\"Nicknames from teams_df (mapped to games_df):\")\n",
    "print(sorted(set(games_df['home_team_name'].dropna().unique()).union(set(games_df['away_team_name'].dropna().unique()))))\n"
   ]
  },
  {
   "cell_type": "code",
   "execution_count": 9,
   "id": "b97398b5",
   "metadata": {},
   "outputs": [
    {
     "name": "stdout",
     "output_type": "stream",
     "text": [
      "Merged dataset shape: (15554, 37)\n",
      "        date         teamA        teamB teamA_nick teamB_nick  PTS_home  \\\n",
      "0 2007-10-30  golden state         utah   warriors       jazz      96.0   \n",
      "1 2007-10-31     cleveland       dallas  cavaliers  mavericks      74.0   \n",
      "2 2007-10-31       indiana   washington     pacers    wizards     119.0   \n",
      "3 2007-10-31       memphis  san antonio  grizzlies      spurs     101.0   \n",
      "4 2007-10-31   new orleans   sacramento   pelicans      kings     104.0   \n",
      "\n",
      "   PTS_away  \n",
      "0     117.0  \n",
      "1      92.0  \n",
      "2     110.0  \n",
      "3     104.0  \n",
      "4      90.0  \n"
     ]
    }
   ],
   "source": [
    "# Step 1: Build mapping from CITY → NICKNAME\n",
    "city_to_nickname = teams_df.set_index(\"CITY\")[\"NICKNAME\"].str.lower().to_dict()\n",
    "\n",
    "# Step 2: Apply mapping to odds_df\n",
    "odds_df['teamA_nick'] = odds_df['teamA'].str.title().map(city_to_nickname)\n",
    "odds_df['teamB_nick'] = odds_df['teamB'].str.title().map(city_to_nickname)\n",
    "\n",
    "# Step 3: Lowercase everything for merge\n",
    "odds_df['teamA_nick'] = odds_df['teamA_nick'].str.lower()\n",
    "odds_df['teamB_nick'] = odds_df['teamB_nick'].str.lower()\n",
    "games_df['home_team_name'] = games_df['TEAM_ID_home'].map(teams_df.set_index(\"TEAM_ID\")[\"NICKNAME\"]).str.lower()\n",
    "games_df['away_team_name'] = games_df['TEAM_ID_away'].map(teams_df.set_index(\"TEAM_ID\")[\"NICKNAME\"]).str.lower()\n",
    "\n",
    "# Step 4: Try both directions of the matchup\n",
    "merge1 = odds_df.merge(\n",
    "    games_df,\n",
    "    left_on=['date', 'teamA_nick', 'teamB_nick'],\n",
    "    right_on=['GAME_DATE_EST', 'home_team_name', 'away_team_name'],\n",
    "    how='inner'\n",
    ")\n",
    "\n",
    "merge2 = odds_df.merge(\n",
    "    games_df,\n",
    "    left_on=['date', 'teamA_nick', 'teamB_nick'],\n",
    "    right_on=['GAME_DATE_EST', 'away_team_name', 'home_team_name'],\n",
    "    how='inner'\n",
    ")\n",
    "\n",
    "# Step 5: Combine both\n",
    "merged_df = pd.concat([merge1, merge2], ignore_index=True)\n",
    "\n",
    "# Done\n",
    "print(\"Merged dataset shape:\", merged_df.shape)\n",
    "print(merged_df[['date', 'teamA', 'teamB', 'teamA_nick', 'teamB_nick', 'PTS_home', 'PTS_away']].head())\n"
   ]
  },
  {
   "cell_type": "code",
   "execution_count": 10,
   "id": "0a29569f",
   "metadata": {},
   "outputs": [
    {
     "name": "stdout",
     "output_type": "stream",
     "text": [
      "['date', 'season', 'teamA', 'teamB', 'teamA_home', 'teamA_score', 'teamB_score', 'teamA_moneyLine', 'teamB_moneyLine', 'total', 'spread', 'secondHalfTotal', 'teamA_nick', 'teamB_nick', 'GAME_DATE_EST', 'GAME_ID', 'GAME_STATUS_TEXT', 'HOME_TEAM_ID', 'VISITOR_TEAM_ID', 'SEASON', 'TEAM_ID_home', 'PTS_home', 'FG_PCT_home', 'FT_PCT_home', 'FG3_PCT_home', 'AST_home', 'REB_home', 'TEAM_ID_away', 'PTS_away', 'FG_PCT_away', 'FT_PCT_away', 'FG3_PCT_away', 'AST_away', 'REB_away', 'HOME_TEAM_WINS', 'home_team_name', 'away_team_name']\n"
     ]
    }
   ],
   "source": [
    "print(merged_df.columns.tolist())"
   ]
  },
  {
   "cell_type": "code",
   "execution_count": 11,
   "id": "f8c3bb6b",
   "metadata": {},
   "outputs": [
    {
     "name": "stdout",
     "output_type": "stream",
     "text": [
      "date\n",
      "season\n",
      "teamA\n",
      "teamB\n",
      "teamA_home\n",
      "teamA_score\n",
      "teamB_score\n",
      "teamA_moneyLine\n",
      "teamB_moneyLine\n",
      "total\n",
      "spread\n",
      "secondHalfTotal\n",
      "teamA_nick\n",
      "teamB_nick\n",
      "GAME_DATE_EST\n",
      "GAME_ID\n",
      "GAME_STATUS_TEXT\n",
      "HOME_TEAM_ID\n",
      "VISITOR_TEAM_ID\n",
      "SEASON\n",
      "TEAM_ID_home\n",
      "PTS_home\n",
      "FG_PCT_home\n",
      "FT_PCT_home\n",
      "FG3_PCT_home\n",
      "AST_home\n",
      "REB_home\n",
      "TEAM_ID_away\n",
      "PTS_away\n",
      "FG_PCT_away\n",
      "FT_PCT_away\n",
      "FG3_PCT_away\n",
      "AST_away\n",
      "REB_away\n",
      "HOME_TEAM_WINS\n",
      "home_team_name\n",
      "away_team_name\n"
     ]
    }
   ],
   "source": [
    "for col in merged_df.columns:\n",
    "    print(col)"
   ]
  },
  {
   "cell_type": "code",
   "execution_count": null,
   "id": "da0908fc",
   "metadata": {},
   "outputs": [],
   "source": []
  }
 ],
 "metadata": {
  "kernelspec": {
   "display_name": "Python 3 (ipykernel)",
   "language": "python",
   "name": "python3"
  },
  "language_info": {
   "codemirror_mode": {
    "name": "ipython",
    "version": 3
   },
   "file_extension": ".py",
   "mimetype": "text/x-python",
   "name": "python",
   "nbconvert_exporter": "python",
   "pygments_lexer": "ipython3",
   "version": "3.10.10"
  }
 },
 "nbformat": 4,
 "nbformat_minor": 5
}
