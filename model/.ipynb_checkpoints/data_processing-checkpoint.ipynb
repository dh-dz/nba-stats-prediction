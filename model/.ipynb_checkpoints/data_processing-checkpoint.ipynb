{
 "cells": [
  {
   "cell_type": "code",
   "execution_count": null,
   "id": "de2d25d2",
   "metadata": {},
   "outputs": [],
   "source": []
  },
  {
   "cell_type": "code",
   "execution_count": 1,
   "id": "488692f2",
   "metadata": {},
   "outputs": [
    {
     "name": "stdout",
     "output_type": "stream",
     "text": [
      "         date  season         teamA        teamB  teamA_home  teamA_score  \\\n",
      "0  2007-10-30    2008  Golden State         Utah           1           96   \n",
      "1  2007-10-30    2008       Houston    LA Lakers           0           95   \n",
      "3  2007-10-30    2008      Portland  San Antonio           0           97   \n",
      "6  2007-10-31    2008       Chicago   New Jersey           0          103   \n",
      "7  2007-10-31    2008     Cleveland       Dallas           1           74   \n",
      "\n",
      "   teamB_score  teamA_moneyLine  teamB_moneyLine  total  spread  \\\n",
      "0          117           -120.0            100.0  212.0     1.0   \n",
      "1           93           -230.0            190.0  199.0     5.0   \n",
      "3          106            900.0          -1400.0  189.5   -13.0   \n",
      "6          112            105.0           -125.0  186.0    -1.5   \n",
      "7           92            120.0           -140.0  184.0    -2.5   \n",
      "\n",
      "   secondHalfTotal  \n",
      "0            105.5  \n",
      "1             99.0  \n",
      "3             95.0  \n",
      "6             94.0  \n",
      "7             91.5  \n"
     ]
    }
   ],
   "source": [
    "import pandas as pd\n",
    "\n",
    "# Load data\n",
    "df = pd.read_csv(\"oddsData.csv\")\n",
    "\n",
    "# Create a consistent game_id: sorted teams + date\n",
    "df['team_pair'] = df[['team', 'opponent']].apply(lambda x: tuple(sorted(x)), axis=1)\n",
    "df['game_id'] = df['team_pair'].astype(str) + '_' + df['date'].astype(str)\n",
    "\n",
    "# Drop duplicates (only one row per game is needed)\n",
    "df = df.drop_duplicates(subset='game_id', keep='first')\n",
    "\n",
    "# Assign teamA, teamB in alphabetical order\n",
    "df[['teamA', 'teamB']] = pd.DataFrame(df['team_pair'].tolist(), index=df.index)\n",
    "\n",
    "# Determine if teamA is the home team\n",
    "df['teamA_home'] = ((df['team'] == df['teamA']) & (df['home/visitor'] == 'vs')) | \\\n",
    "                   ((df['team'] == df['teamB']) & (df['home/visitor'] == '@'))\n",
    "df['teamA_home'] = df['teamA_home'].astype(int)\n",
    "\n",
    "# Assign scores and moneylines using vectorized logic\n",
    "is_teamA = df['team'] == df['teamA']\n",
    "\n",
    "df['teamA_score'] = df['score'].where(is_teamA, df['opponentScore'])\n",
    "df['teamB_score'] = df['opponentScore'].where(is_teamA, df['score'])\n",
    "\n",
    "df['teamA_moneyLine'] = df['moneyLine'].where(is_teamA, df['opponentMoneyLine'])\n",
    "df['teamB_moneyLine'] = df['opponentMoneyLine'].where(is_teamA, df['moneyLine'])\n",
    "\n",
    "# Final cleaned dataframe\n",
    "cleaned_df = df[[\n",
    "    'date', 'season', 'teamA', 'teamB', 'teamA_home',\n",
    "    'teamA_score', 'teamB_score',\n",
    "    'teamA_moneyLine', 'teamB_moneyLine',\n",
    "    'total', 'spread', 'secondHalfTotal'\n",
    "]]\n",
    "\n",
    "# Optional save or display\n",
    "cleaned_df.to_csv(\"cleaned_odds_data.csv\", index=False)\n",
    "print(cleaned_df.head())\n"
   ]
  },
  {
   "cell_type": "code",
   "execution_count": null,
   "id": "4c482713",
   "metadata": {},
   "outputs": [],
   "source": []
  }
 ],
 "metadata": {
  "kernelspec": {
   "display_name": "Python 3 (ipykernel)",
   "language": "python",
   "name": "python3"
  },
  "language_info": {
   "codemirror_mode": {
    "name": "ipython",
    "version": 3
   },
   "file_extension": ".py",
   "mimetype": "text/x-python",
   "name": "python",
   "nbconvert_exporter": "python",
   "pygments_lexer": "ipython3",
   "version": "3.10.10"
  }
 },
 "nbformat": 4,
 "nbformat_minor": 5
}
