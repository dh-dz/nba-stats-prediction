{
 "cells": [
  {
   "cell_type": "code",
   "execution_count": 52,
   "id": "cde93cdd",
   "metadata": {},
   "outputs": [],
   "source": [
    "import pandas as pd\n",
    "# Load the dataset\n",
    "df_model = pd.read_csv(\"merged_data_features.csv\", parse_dates=[\"date\"])"
   ]
  },
  {
   "cell_type": "code",
   "execution_count": 53,
   "id": "352c5aef",
   "metadata": {},
   "outputs": [],
   "source": [
    "# Choose a time window\n",
    "tiredness_window_days = 5\n",
    "\n",
    "# Prepare long-format game list\n",
    "games_A = df_model[['date', 'teamA']].rename(columns={'teamA': 'team'})\n",
    "games_B = df_model[['date', 'teamB']].rename(columns={'teamB': 'team'})\n",
    "all_games = pd.concat([games_A, games_B], ignore_index=True).drop_duplicates()\n",
    "\n",
    "# Ensure datetime format\n",
    "all_games['date'] = pd.to_datetime(all_games['date'])\n",
    "\n",
    "# Compute tiredness: past X days' games per team\n",
    "tiredness_list = []\n",
    "for team in all_games['team'].unique():\n",
    "    team_games = all_games[all_games['team'] == team].copy()\n",
    "    team_games = team_games.sort_values('date')\n",
    "    team_games['tiredness'] = team_games['date'].apply(\n",
    "        lambda d: ((team_games['date'] < d) & \n",
    "                   (team_games['date'] >= d - pd.Timedelta(days=tiredness_window_days))).sum()\n",
    "    )\n",
    "    tiredness_list.append(team_games)\n",
    "\n",
    "tiredness_df = pd.concat(tiredness_list, ignore_index=True).drop_duplicates(subset=['date', 'team'])\n",
    "\n",
    "# Merge tiredness back for teamA\n",
    "df_model = df_model.merge(\n",
    "    tiredness_df.rename(columns={'team': 'teamA', 'tiredness': 'tiredness_A'}),\n",
    "    on=['date', 'teamA'], how='left'\n",
    ")\n",
    "\n",
    "# Merge tiredness back for teamB\n",
    "df_model = df_model.merge(\n",
    "    tiredness_df.rename(columns={'team': 'teamB', 'tiredness': 'tiredness_B'}),\n",
    "    on=['date', 'teamB'], how='left'\n",
    ")\n",
    "# Compute tiredness difference\n",
    "df_model['tiredness_diff'] = df_model['tiredness_A'] - df_model['tiredness_B']\n"
   ]
  },
  {
   "cell_type": "code",
   "execution_count": 54,
   "id": "b4b3d418",
   "metadata": {},
   "outputs": [
    {
     "name": "stderr",
     "output_type": "stream",
     "text": [
      "/var/folders/9r/gvxmfp9n2f755ttktlmwy7rm0000gn/T/ipykernel_512/2000999654.py:16: FutureWarning: DataFrameGroupBy.apply operated on the grouping columns. This behavior is deprecated, and in a future version of pandas the grouping columns will be excluded from the operation. Either pass `include_groups=False` to exclude the groupings or explicitly select the grouping columns after groupby to silence this warning.\n",
      "  .apply(lambda x: x.sort_values('date')\n"
     ]
    }
   ],
   "source": [
    "# === Add PTS and Create Long Format ===\n",
    "teamA_records = df_model[['date', 'teamA', 'teamB', 'teamA_PTS', 'teamA_FG_PCT', 'teamA_FT_PCT', 'teamA_FG3_PCT', 'teamA_AST', 'teamA_REB']].copy()\n",
    "teamA_records.columns = ['date', 'team', 'opponent', 'PTS', 'FG_PCT', 'FT_PCT', 'FG3_PCT', 'AST', 'REB']\n",
    "\n",
    "teamB_records = df_model[['date', 'teamB', 'teamA', 'teamB_PTS', 'teamB_FG_PCT', 'teamB_FT_PCT', 'teamB_FG3_PCT', 'teamB_AST', 'teamB_REB']].copy()\n",
    "teamB_records.columns = ['date', 'team', 'opponent', 'PTS', 'FG_PCT', 'FT_PCT', 'FG3_PCT', 'AST', 'REB']\n",
    "\n",
    "# Combine both sides\n",
    "long_vs = pd.concat([teamA_records, teamB_records])\n",
    "long_vs = long_vs.sort_values(['team', 'opponent', 'date'])\n",
    "\n",
    "# === Rolling Average vs Specific Opponent (excluding current game) ===\n",
    "grouped_vs = long_vs.groupby(['team', 'opponent'], group_keys=False)\n",
    "rolling_vs = (\n",
    "    grouped_vs\n",
    "    .apply(lambda x: x.sort_values('date')\n",
    "           .rolling(window=3, on='date', closed='left')[['PTS', 'FG_PCT', 'FT_PCT', 'FG3_PCT', 'AST', 'REB']].mean())\n",
    "    .reset_index(drop=True)\n",
    ")\n",
    "\n",
    "# Restore columns for merging\n",
    "rolling_vs['team'] = long_vs['team'].values\n",
    "rolling_vs['opponent'] = long_vs['opponent'].values\n",
    "rolling_vs['date'] = long_vs['date'].values\n",
    "# Drop duplicates from rolling_vs before merging\n",
    "rolling_vs = rolling_vs.drop_duplicates(subset=['team', 'opponent', 'date'])\n",
    "\n",
    "# Rename columns for clarity\n",
    "rolling_vs = rolling_vs.rename(columns=lambda c: f\"{c}_vs_opp\" if c not in ['date', 'team', 'opponent'] else c)\n",
    "\n",
    "\n",
    "# === Merge A team's rolling stats ===\n",
    "df_model = df_model.merge(\n",
    "    rolling_vs,\n",
    "    left_on=['teamA', 'teamB', 'date'],\n",
    "    right_on=['team', 'opponent', 'date'],\n",
    "    how='left'\n",
    ")\n",
    "df_model = df_model.rename(columns={col: col + '_A' for col in rolling_vs.columns if col not in ['date', 'team', 'opponent']})\n",
    "df_model = df_model.drop(columns=['team', 'opponent'])\n",
    "\n",
    "# === Merge B team's rolling stats ===\n",
    "df_model = df_model.merge(\n",
    "    rolling_vs,\n",
    "    left_on=['teamB', 'teamA', 'date'],\n",
    "    right_on=['team', 'opponent', 'date'],\n",
    "    how='left'\n",
    ")\n",
    "df_model = df_model.rename(columns={col: col + '_B' for col in rolling_vs.columns if col not in ['date', 'team', 'opponent']})\n",
    "df_model = df_model.drop(columns=['team', 'opponent'])\n",
    "\n",
    "# === Feature Engineering: Stat Differences (A - B) ===\n",
    "df_model['fg_pct_vs_opp_diff']   = df_model['FG_PCT_vs_opp_A'] - df_model['FG_PCT_vs_opp_B']\n",
    "df_model['ft_pct_vs_opp_diff']   = df_model['FT_PCT_vs_opp_A'] - df_model['FT_PCT_vs_opp_B']\n",
    "df_model['fg3_pct_vs_opp_diff']  = df_model['FG3_PCT_vs_opp_A'] - df_model['FG3_PCT_vs_opp_B']\n",
    "df_model['ast_vs_opp_diff']      = df_model['AST_vs_opp_A']     - df_model['AST_vs_opp_B']\n",
    "df_model['reb_vs_opp_diff']      = df_model['REB_vs_opp_A']     - df_model['REB_vs_opp_B']\n",
    "df_model['pts_vs_opp_diff']      = df_model['PTS_vs_opp_A']     - df_model['PTS_vs_opp_B']\n"
   ]
  },
  {
   "cell_type": "code",
   "execution_count": 55,
   "id": "fe60ebe9",
   "metadata": {},
   "outputs": [],
   "source": [
    "# Drop rows with NaN in key columns\n",
    "feature_cols = ['fg_pct_diff', 'ft_pct_diff', 'fg3_pct_diff', 'ast_diff', 'reb_diff', \\\n",
    "                'moneyline_diff','tiredness_diff','fg_pct_vs_opp_diff', \\\n",
    "                'ft_pct_vs_opp_diff', 'fg3_pct_vs_opp_diff', 'ast_vs_opp_diff', \\\n",
    "                'reb_vs_opp_diff', 'pts_vs_opp_diff']\n",
    "target_col = 'score_diff'\n",
    "df_model = df_model.dropna(subset=feature_cols + [target_col, 'spread'])"
   ]
  },
  {
   "cell_type": "code",
   "execution_count": 56,
   "id": "9790f51b",
   "metadata": {},
   "outputs": [],
   "source": [
    "df_model.to_csv(\"merged_data_features_with_tiredness.csv\", index=False)"
   ]
  },
  {
   "cell_type": "code",
   "execution_count": null,
   "id": "b3269f46",
   "metadata": {},
   "outputs": [],
   "source": []
  }
 ],
 "metadata": {
  "kernelspec": {
   "display_name": "Python 3 (ipykernel)",
   "language": "python",
   "name": "python3"
  },
  "language_info": {
   "codemirror_mode": {
    "name": "ipython",
    "version": 3
   },
   "file_extension": ".py",
   "mimetype": "text/x-python",
   "name": "python",
   "nbconvert_exporter": "python",
   "pygments_lexer": "ipython3",
   "version": "3.10.10"
  }
 },
 "nbformat": 4,
 "nbformat_minor": 5
}
